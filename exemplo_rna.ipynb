{
 "cells": [
  {
   "cell_type": "code",
   "execution_count": null,
   "metadata": {},
   "outputs": [],
   "source": [
    "import numpy as np\n",
    "import tensorflow as tf\n",
    "from tensorflow import keras\n",
    "from tensorflow.keras.models import Sequential\n",
    "from tensorflow.keras.layers import Dense\n",
    "\n",
    "# Gerando dados de treinamento\n",
    "np.random.seed(42)\n",
    "X_train = np.random.uniform(-2, 3, (1000, ))  # Gera 1000 amostras de 2 números entre -2 e 3\n",
    "y_train = (X_train >= 1).astype(int)  # 1 se a média for >= 1, senão 0\n",
    "\n",
    "# Criando a rede neural\n",
    "model = Sequential([\n",
    "    Dense(2, activation='relu', input_shape=(1,)),  # Camada oculta com 4 neurônios\n",
    "    Dense(1, activation='sigmoid')  # Saída com ativação sigmoide\n",
    "])\n",
    "\n",
    "# Compilando o modelo\n",
    "model.compile(optimizer='adam', loss='binary_crossentropy', metrics=['accuracy'])\n",
    "\n",
    "# Treinando o modelo\n",
    "model.fit(X_train, y_train, epochs=20, batch_size=32, verbose=1)\n",
    "\n",
    "# Função para classificar novos números\n",
    "def classificar_numero(num1, num2):\n",
    "    entrada = np.array([[num1, num2]])\n",
    "    previsao = model.predict(entrada)\n",
    "    classe = \"maior ou igual a 1\" if previsao >= 0.5 else \"menor que 1\"\n",
    "    print(f\"A média de ({num1}, {num2}) é {classe}.\")\n",
    "\n",
    "# Testando com entrada do usuário\n",
    "num1 = float(input(\"Digite o primeiro número: \"))\n",
    "num2 = float(input(\"Digite o segundo número: \"))\n",
    "classificar_numero(num1, num2)\n"
   ]
  }
 ],
 "metadata": {
  "language_info": {
   "name": "python"
  }
 },
 "nbformat": 4,
 "nbformat_minor": 2
}
